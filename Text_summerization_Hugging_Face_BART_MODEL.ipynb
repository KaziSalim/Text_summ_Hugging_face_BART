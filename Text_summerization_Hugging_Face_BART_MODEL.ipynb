{
 "cells": [
  {
   "cell_type": "code",
   "execution_count": 1,
   "id": "64eb8efe",
   "metadata": {},
   "outputs": [],
   "source": [
    "import pandas as pd\n",
    "import numpy as np"
   ]
  },
  {
   "cell_type": "code",
   "execution_count": 2,
   "id": "d6790418",
   "metadata": {},
   "outputs": [],
   "source": [
    "text = '''The Administration of Union Territory Daman and Diu has revoked its order that made it compulsory for women to tie rakhis to their male colleagues on the occasion of Rakshabandhan on August 7. The administration was forced to withdraw the decision within 24 hours of issuing the circular after it received flak from employees and was slammed on social media. Malaika Arora slammed an Instagram user who trolled her for \"divorcing a rich man\" and \"having fun with the alimony\". \"Her life now is all about wearing short clothes, going to gym or salon, enjoying vacation[s],\" the user commented. Malaika responded, \"You certainly got to get your damn facts right before spewing sh*t on me...when you know nothing about me.\" The Indira Gandhi Institute of Medical Sciences (IGIMS) in Patna on Thursday made corrections in its Marital Declaration Form by changing 'Virgin' option to 'Unmarried'. Earlier, Bihar Health Minister defined virgin as being an unmarried woman and did not consider the term objectionable. The institute, however, faced strong backlash for asking new recruits to declare their virginity in the form. Lashkar-e-Taiba's Kashmir commander Abu Dujana, who was killed by security forces, said \"Kabhi hum aage, kabhi aap, aaj aapne pakad liya, mubarak ho aapko (Today you caught me. Congratulations)\" after being caught. He added that he won't surrender, and whatever is in his fate will happen to him. \"Hum nikley they shaheed hone (had left home for martyrdom),\" he added. Hotels in Maharashtra will train their staff to spot signs of sex trafficking, including frequent requests for bed linen changes and 'Do not disturb' signs left on room doors for days. A mobile phone app called Rescue Me, which will allow staff to alert police of suspicious behaviour, will be developed. The initiative has been backed by the Maharashtra government. A 32-year-old man on Wednesday was found hanging inside the washroom of a Delhi police station after he was called for interrogation. His family alleged that he could have been emotionally and physically tortured. Police said the man was named as a suspect in the kidnapping case of a married woman with whom he had been in a relationship earlier. The Delhi High Court reduced the compensation awarded to a motor accident victim by 45% after it found negligence on the part of both parties. A compensation of ?10 lakh was earlier awarded to the victim. The court observed, \"It's possible despite the vehicle being driven in permissible limit, an accident can occur when a jaywalker suddenly appears on road.\"  A 60-year old Dalit woman was allegedly lynched in Agra after villagers thought that she was behind the recent cases of chopping hair of sleeping women. The family members of the woman who left home around 4 am on Wednesday said, \"She pleaded that she had lost her way but they took her as one responsible for chopping women hair.\" An inquiry by the Aircraft Accident Investigation Bureau found that the Pawan Hans helicopter was flying at a critically low height, resulting in its crash near Bombay High in 2015. The report further mentioned that the instructor, despite being aware of the low height, didn't take control of the helicopter after the trainee pilot wasn?t able to manage the situation.  The Congress party has opened a bank called 'State Bank of Tomato' in Uttar Pradesh's Lucknow, in a protest against the rising prices of the vegetable. People can get interests on deposits and also get vegetables on loan in the bank. \"I have deposited 0.5 Kg tomatoes, will get 1 kg after 6 months,\" said a man.'''"
   ]
  },
  {
   "cell_type": "code",
   "execution_count": 3,
   "id": "82a86698",
   "metadata": {},
   "outputs": [
    {
     "data": {
      "text/plain": [
       "'The Administration of Union Territory Daman and Diu has revoked its order that made it compulsory for women to tie rakhis to their male colleagues on the occasion of Rakshabandhan on August 7. The administration was forced to withdraw the decision within 24 hours of issuing the circular after it received flak from employees and was slammed on social media. Malaika Arora slammed an Instagram user who trolled her for \"divorcing a rich man\" and \"having fun with the alimony\". \"Her life now is all about wearing short clothes, going to gym or salon, enjoying vacation[s],\" the user commented. Malaika responded, \"You certainly got to get your damn facts right before spewing sh*t on me...when you know nothing about me.\" The Indira Gandhi Institute of Medical Sciences (IGIMS) in Patna on Thursday made corrections in its Marital Declaration Form by changing \\'Virgin\\' option to \\'Unmarried\\'. Earlier, Bihar Health Minister defined virgin as being an unmarried woman and did not consider the term objectionable. The institute, however, faced strong backlash for asking new recruits to declare their virginity in the form. Lashkar-e-Taiba\\'s Kashmir commander Abu Dujana, who was killed by security forces, said \"Kabhi hum aage, kabhi aap, aaj aapne pakad liya, mubarak ho aapko (Today you caught me. Congratulations)\" after being caught. He added that he won\\'t surrender, and whatever is in his fate will happen to him. \"Hum nikley they shaheed hone (had left home for martyrdom),\" he added. Hotels in Maharashtra will train their staff to spot signs of sex trafficking, including frequent requests for bed linen changes and \\'Do not disturb\\' signs left on room doors for days. A mobile phone app called Rescue Me, which will allow staff to alert police of suspicious behaviour, will be developed. The initiative has been backed by the Maharashtra government. A 32-year-old man on Wednesday was found hanging inside the washroom of a Delhi police station after he was called for interrogation. His family alleged that he could have been emotionally and physically tortured. Police said the man was named as a suspect in the kidnapping case of a married woman with whom he had been in a relationship earlier. The Delhi High Court reduced the compensation awarded to a motor accident victim by 45% after it found negligence on the part of both parties. A compensation of ?10 lakh was earlier awarded to the victim. The court observed, \"It\\'s possible despite the vehicle being driven in permissible limit, an accident can occur when a jaywalker suddenly appears on road.\"  A 60-year old Dalit woman was allegedly lynched in Agra after villagers thought that she was behind the recent cases of chopping hair of sleeping women. The family members of the woman who left home around 4 am on Wednesday said, \"She pleaded that she had lost her way but they took her as one responsible for chopping women hair.\" An inquiry by the Aircraft Accident Investigation Bureau found that the Pawan Hans helicopter was flying at a critically low height, resulting in its crash near Bombay High in 2015. The report further mentioned that the instructor, despite being aware of the low height, didn\\'t take control of the helicopter after the trainee pilot wasn?t able to manage the situation.  The Congress party has opened a bank called \\'State Bank of Tomato\\' in Uttar Pradesh\\'s Lucknow, in a protest against the rising prices of the vegetable. People can get interests on deposits and also get vegetables on loan in the bank. \"I have deposited 0.5 Kg tomatoes, will get 1 kg after 6 months,\" said a man.'"
      ]
     },
     "execution_count": 3,
     "metadata": {},
     "output_type": "execute_result"
    }
   ],
   "source": [
    "text"
   ]
  },
  {
   "cell_type": "code",
   "execution_count": 4,
   "id": "fcc9a4f1",
   "metadata": {},
   "outputs": [],
   "source": [
    "import contractions"
   ]
  },
  {
   "cell_type": "code",
   "execution_count": 5,
   "id": "56a04ac6",
   "metadata": {},
   "outputs": [],
   "source": [
    "text = contractions.fix(text)"
   ]
  },
  {
   "cell_type": "code",
   "execution_count": 6,
   "id": "4b9d0fc3",
   "metadata": {},
   "outputs": [
    {
     "data": {
      "text/plain": [
       "'The Administration of Union Territory Daman and Diu has revoked its order that made it compulsory for women to tie rakhis to their male colleagues on the occasion of Rakshabandhan on August 7. The administration was forced to withdraw the decision within 24 hours of issuing the circular after it received flak from employees and was slammed on social media. Malaika Arora slammed an Instagram user who trolled her for \"divorcing a rich man\" and \"having fun with the alimony\". \"Her life now is all about wearing short clothes, going to gym or salon, enjoying vacation[s],\" the user commented. Malaika responded, \"You certainly got to get your damn facts right before spewing sh*t on me...when you know nothing about me.\" The Indira Gandhi Institute of Medical Sciences (IGIMS) in Patna on Thursday made corrections in its Marital Declaration Form by changing \\'Virgin\\' option to \\'Unmarried\\'. Earlier, Bihar Health Minister defined virgin as being an unmarried woman and did not consider the term objectionable. The institute, however, faced strong backlash for asking new recruits to declare their virginity in the form. Lashkar-e-Taiba\\'s Kashmir commander Abu Dujana, who was killed by security forces, said \"Kabhi hum aage, kabhi aap, aaj aapne pakad liya, mubarak ho aapko (Today you caught me. Congratulations)\" after being caught. He added that he will not surrender, and whatever is in his fate will happen to him. \"Hum nikley they shaheed hone (had left home for martyrdom),\" he added. Hotels in Maharashtra will train their staff to spot signs of sex trafficking, including frequent requests for bed linen changes and \\'Do not disturb\\' signs left on room doors for days. A mobile phone app called Rescue Me, which will allow staff to alert police of suspicious behaviour, will be developed. The initiative has been backed by the Maharashtra government. A 32-year-old man on Wednesday was found hanging inside the washroom of a Delhi police station after he was called for interrogation. His family alleged that he could have been emotionally and physically tortured. Police said the man was named as a suspect in the kidnapping case of a married woman with whom he had been in a relationship earlier. The Delhi High Court reduced the compensation awarded to a motor accident victim by 45% after it found negligence on the part of both parties. A compensation of ?10 lakh was earlier awarded to the victim. The court observed, \"it is possible despite the vehicle being driven in permissible limit, an accident can occur when a jaywalker suddenly appears on road.\"  A 60-year old Dalit woman was allegedly lynched in Agra after villagers thought that she was behind the recent cases of chopping hair of sleeping women. The family members of the woman who left home around 4 am on Wednesday said, \"She pleaded that she had lost her way but they took her as one responsible for chopping women hair.\" An inquiry by the Aircraft Accident Investigation Bureau found that the Pawan Hans helicopter was flying at a critically low height, resulting in its crash near Bombay High in 2015. The report further mentioned that the instructor, despite being aware of the low height, did not take control of the helicopter after the trainee pilot wasn?t able to manage the situation.  The Congress party has opened a bank called \\'State Bank of Tomato\\' in Uttar Pradesh\\'s Lucknow, in a protest against the rising prices of the vegetable. People can get interests on deposits and also get vegetables on loan in the bank. \"I have deposited 0.5 Kg tomatoes, will get 1 kg after 6 months,\" said a man.'"
      ]
     },
     "execution_count": 6,
     "metadata": {},
     "output_type": "execute_result"
    }
   ],
   "source": [
    "text"
   ]
  },
  {
   "cell_type": "code",
   "execution_count": 7,
   "id": "b13e83ba",
   "metadata": {},
   "outputs": [],
   "source": [
    "from autocorrect import Speller"
   ]
  },
  {
   "cell_type": "code",
   "execution_count": 8,
   "id": "913430a6",
   "metadata": {},
   "outputs": [],
   "source": [
    "def spelling_correct(word, spell_checker):\n",
    "    return spell_checker(word)"
   ]
  },
  {
   "cell_type": "code",
   "execution_count": 9,
   "id": "7be8e029",
   "metadata": {},
   "outputs": [],
   "source": [
    "from nltk.tokenize import word_tokenize, sent_tokenize"
   ]
  },
  {
   "cell_type": "code",
   "execution_count": 10,
   "id": "8507081f",
   "metadata": {},
   "outputs": [],
   "source": [
    "from nltk.corpus import stopwords"
   ]
  },
  {
   "cell_type": "code",
   "execution_count": 11,
   "id": "cfd1bec2",
   "metadata": {},
   "outputs": [],
   "source": [
    "from string import punctuation"
   ]
  },
  {
   "cell_type": "code",
   "execution_count": 12,
   "id": "4e187abf",
   "metadata": {},
   "outputs": [],
   "source": [
    "from nltk.stem import WordNetLemmatizer"
   ]
  },
  {
   "cell_type": "code",
   "execution_count": 13,
   "id": "45c4069f",
   "metadata": {},
   "outputs": [],
   "source": [
    "stopwords = set(stopwords.words('english'))"
   ]
  },
  {
   "cell_type": "code",
   "execution_count": 14,
   "id": "bdf896a4",
   "metadata": {},
   "outputs": [],
   "source": [
    "def text_processing(text):\n",
    "    text = text.lower()\n",
    "    \n",
    "    words = word_tokenize(text)\n",
    "    \n",
    "    remove_stopwords = [word for word in words if word.lower() not in stopwords]\n",
    "    \n",
    "    remove_punct = [''.join(char for char in word if char not in punctuation)for word in remove_stopwords]\n",
    "    \n",
    "    #spell = Speller(lang = 'en')\n",
    "    #correct_spelling = [spelling_correct(word, spell)for word in remove_punct]\n",
    "    \n",
    "    lemmatizer = WordNetLemmatizer()\n",
    "    lemmat_word = [lemmatizer.lemmatize(word) for word in remove_punct]\n",
    "    \n",
    "    filtered_text = ' '.join(lemmat_word)\n",
    "    \n",
    "    return filtered_text"
   ]
  },
  {
   "cell_type": "code",
   "execution_count": 15,
   "id": "50e740cb",
   "metadata": {},
   "outputs": [],
   "source": [
    "preprocessed_text = text_processing(text)"
   ]
  },
  {
   "cell_type": "code",
   "execution_count": 16,
   "id": "6baf1190",
   "metadata": {},
   "outputs": [
    {
     "data": {
      "text/plain": [
       "'administration union territory daman diu revoked order made compulsory woman tie rakhis male colleague occasion rakshabandhan august 7 administration forced withdraw decision within 24 hour issuing circular received flak employee slammed social medium  malaika arora slammed instagram user trolled  divorcing rich man   fun alimony    life wearing short clothes  going gym salon  enjoying vacation     user commented  malaika responded   certainly got get damn fact right spewing sh   know nothing   indira gandhi institute medical science  igims  patna thursday made correction marital declaration form changing virgin  option unmarried   earlier  bihar health minister defined virgin unmarried woman consider term objectionable  institute  however  faced strong backlash asking new recruit declare virginity form  lashkaretaiba s kashmir commander abu dujana  killed security force  said  kabhi hum aage  kabhi aap  aaj aapne pakad liya  mubarak ho aapko  today caught  congratulation   caught  added surrender  whatever fate happen   hum nikley shaheed hone  left home martyrdom    added  hotel maharashtra train staff spot sign sex trafficking  including frequent request bed linen change do disturb  sign left room door day  mobile phone app called rescue  allow staff alert police suspicious behaviour  developed  initiative backed maharashtra government  32yearold man wednesday found hanging inside washroom delhi police station called interrogation  family alleged could emotionally physically tortured  police said man named suspect kidnapping case married woman relationship earlier  delhi high court reduced compensation awarded motor accident victim 45  found negligence part party  compensation  10 lakh earlier awarded victim  court observed   possible despite vehicle driven permissible limit  accident occur jaywalker suddenly appears road   60year old dalit woman allegedly lynched agra villager thought behind recent case chopping hair sleeping woman  family member woman left home around 4 wednesday said   pleaded lost way took one responsible chopping woman hair   inquiry aircraft accident investigation bureau found pawan han helicopter flying critically low height  resulting crash near bombay high 2015 report mentioned instructor  despite aware low height  take control helicopter trainee pilot  able manage situation  congress party opened bank called state bank tomato  uttar pradesh s lucknow  protest rising price vegetable  people get interest deposit also get vegetable loan bank   deposited 05 kg tomato  get 1 kg 6 month   said man '"
      ]
     },
     "execution_count": 16,
     "metadata": {},
     "output_type": "execute_result"
    }
   ],
   "source": [
    "preprocessed_text"
   ]
  },
  {
   "cell_type": "code",
   "execution_count": 17,
   "id": "763ef45b",
   "metadata": {},
   "outputs": [],
   "source": [
    "from transformers import pipeline"
   ]
  },
  {
   "cell_type": "code",
   "execution_count": 19,
   "id": "f83a10f8",
   "metadata": {},
   "outputs": [
    {
     "name": "stdout",
     "output_type": "stream",
     "text": [
      "Generated Summary (BART):\n",
      "Instagram user trolled  divorcing rich man   fun alimony    life wearing short clothes  going gym salon  enjoying vacation. malaika responded   certainly got get damn fact right spewing sh   know nothing   indira gandhi institute medical science  igims  patna thursday made correction marital declaration form changing virgin  option unmarried. administration union territory daman diu revoked order made compulsory woman tie rakhis male colleague occasion.\n"
     ]
    }
   ],
   "source": [
    "summarizer = pipeline(\"summarization\", model=\"facebook/bart-large-cnn\")\n",
    "summary_BART = summarizer(preprocessed_text, max_length=150, min_length=50, length_penalty=2.0, num_beams=4, early_stopping=True)\n",
    "print(\"Generated Summary (BART):\")\n",
    "print(summary_BART[0]['summary_text'])"
   ]
  }
 ],
 "metadata": {
  "kernelspec": {
   "display_name": "Python 3 (ipykernel)",
   "language": "python",
   "name": "python3"
  },
  "language_info": {
   "codemirror_mode": {
    "name": "ipython",
    "version": 3
   },
   "file_extension": ".py",
   "mimetype": "text/x-python",
   "name": "python",
   "nbconvert_exporter": "python",
   "pygments_lexer": "ipython3",
   "version": "3.11.4"
  }
 },
 "nbformat": 4,
 "nbformat_minor": 5
}
